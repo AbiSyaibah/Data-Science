{
  "nbformat": 4,
  "nbformat_minor": 0,
  "metadata": {
    "colab": {
      "provenance": []
    },
    "kernelspec": {
      "name": "python3",
      "display_name": "Python 3"
    },
    "language_info": {
      "name": "python"
    }
  },
  "cells": [
    {
      "cell_type": "code",
      "execution_count": 3,
      "metadata": {
        "id": "dE31DkjlXFND"
      },
      "outputs": [],
      "source": [
        "import pandas as pd"
      ]
    },
    {
      "cell_type": "markdown",
      "source": [
        "# **1. Create**\n",
        "1. Create from CSV\n"
      ],
      "metadata": {
        "id": "19Eq45dUYQ-p"
      }
    },
    {
      "cell_type": "code",
      "source": [
        "df= pd.read_csv('/content/telco_churn.csv')"
      ],
      "metadata": {
        "id": "hvclURrSYQS4"
      },
      "execution_count": 4,
      "outputs": []
    }
  ]
}